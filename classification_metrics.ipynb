{
 "cells": [
  {
   "cell_type": "markdown",
   "metadata": {},
   "source": [
    "**分类问题的评估及关键指标**"
   ]
  },
  {
   "cell_type": "markdown",
   "metadata": {},
   "source": [
    "正确率（accuracy）"
   ]
  },
  {
   "cell_type": "code",
   "execution_count": 33,
   "metadata": {},
   "outputs": [
    {
     "data": {
      "text/plain": [
       "(768,)"
      ]
     },
     "execution_count": 33,
     "metadata": {},
     "output_type": "execute_result"
    }
   ],
   "source": [
    "import pandas as pd\n",
    "diabetes=pd.read_csv(r'D:\\thf\\python\\kaggle\\diabetes\\diabetes.csv')\n",
    "diabetes.head()\n",
    "#选几个特征测一下\n",
    "X=diabetes[['Pregnancies', 'Insulin', 'BMI', 'Age']]\n",
    "y=diabetes['Outcome']\n",
    "\n",
    "X.shape\n",
    "y.shape"
   ]
  },
  {
   "cell_type": "code",
   "execution_count": 44,
   "metadata": {},
   "outputs": [
    {
     "data": {
      "text/plain": [
       "0.71354166666666663"
      ]
     },
     "execution_count": 44,
     "metadata": {},
     "output_type": "execute_result"
    }
   ],
   "source": [
    "from sklearn.model_selection import train_test_split\n",
    "X_train,X_test,y_train,y_test=train_test_split(X, y)\n",
    "\n",
    "from sklearn.linear_model import LogisticRegression\n",
    "logre=LogisticRegression()\n",
    "logre.fit(X_train,y_train)\n",
    "y_pred=logre.predict(X_test)\n",
    "\n",
    "from sklearn import metrics\n",
    "metrics.accuracy_score(y_pred,y_test)"
   ]
  },
  {
   "cell_type": "markdown",
   "metadata": {},
   "source": [
    "#有时候错误的分类为出现频率很高的那一类也能得到高的正确率\n",
    "#正确率高并不一定就是好的分类算法"
   ]
  },
  {
   "cell_type": "code",
   "execution_count": 50,
   "metadata": {},
   "outputs": [
    {
     "name": "stdout",
     "output_type": "stream",
     "text": [
      "0.3541666666666667\n",
      "[1 0 0 1 0 1 0 0 0 0 1 0 0 0 0 0 0 0 0 0 1 1 0 0 1]\n",
      "[1 0 1 1 0 1 0 0 0 0 0 0 0 0 0 0 0 0 0 0 0 0 0 0 0]\n"
     ]
    }
   ],
   "source": [
    "print(y_test.mean())\n",
    "#通过均值看出大概率是0\n",
    "print(y_test.values[0:25])\n",
    "print(y_pred[0:25])\n",
    "#很多真实值为1被预测成0"
   ]
  },
  {
   "cell_type": "markdown",
   "metadata": {},
   "source": [
    "**混淆矩阵**"
   ]
  },
  {
   "cell_type": "code",
   "execution_count": 51,
   "metadata": {},
   "outputs": [
    {
     "data": {
      "text/plain": [
       "array([[111,  13],\n",
       "       [ 42,  26]], dtype=int64)"
      ]
     },
     "execution_count": 51,
     "metadata": {},
     "output_type": "execute_result"
    }
   ],
   "source": [
    "#true在前面，pred在后面\n",
    "metrics.confusion_matrix(y_test,y_pred)"
   ]
  },
  {
   "cell_type": "markdown",
   "metadata": {},
   "source": [
    "假设分类目标有两类，计为正例（positive）和负例（negtive）\n",
    "#1）True positives(TP):  被正确地划分为正例的个数，即实际为正例且被分类器划分为正例的实例数（样本数）；\n",
    "#2）False positives(FP): 被错误地划分为正例的个数，即实际为负例但被分类器划分为正例的实例数；\n",
    "#3）False negatives(FN):被错误地划分为负例的个数，即实际为正例但被分类器划分为负例的实例数；\n",
    "#4）True negatives(TN): 被正确地划分为负例的个数，即实际为负例且被分类器划分为负例的实例数"
   ]
  },
  {
   "cell_type": "code",
   "execution_count": 52,
   "metadata": {},
   "outputs": [],
   "source": [
    "confusion=metrics.confusion_matrix(y_test,y_pred)\n",
    "TP=confusion[1,1]\n",
    "FP=confusion[0,1]\n",
    "TN=confusion[0,0]\n",
    "FN=confusion[1,0]"
   ]
  },
  {
   "cell_type": "markdown",
   "metadata": {},
   "source": [
    "**正确率（accuracy）**"
   ]
  },
  {
   "cell_type": "code",
   "execution_count": 54,
   "metadata": {},
   "outputs": [
    {
     "name": "stdout",
     "output_type": "stream",
     "text": [
      "0.713541666667\n",
      "0.713541666667\n"
     ]
    }
   ],
   "source": [
    "print((TP+TN)/(TP+FP+TN+FN))\n",
    "print(metrics.accuracy_score(y_pred,y_test))"
   ]
  },
  {
   "cell_type": "markdown",
   "metadata": {},
   "source": [
    "**错误率（error）**"
   ]
  },
  {
   "cell_type": "code",
   "execution_count": 55,
   "metadata": {},
   "outputs": [
    {
     "name": "stdout",
     "output_type": "stream",
     "text": [
      "0.286458333333\n",
      "0.286458333333\n"
     ]
    }
   ],
   "source": [
    "print((FP+FN)/(TP+FP+TN+FN))\n",
    "print(1-metrics.accuracy_score(y_pred,y_test))"
   ]
  },
  {
   "cell_type": "markdown",
   "metadata": {},
   "source": [
    "**灵敏度（sensitivity）/召回率（recall）---正例被分对的比例**"
   ]
  },
  {
   "cell_type": "code",
   "execution_count": 58,
   "metadata": {},
   "outputs": [
    {
     "name": "stdout",
     "output_type": "stream",
     "text": [
      "0.382352941176\n",
      "0.382352941176\n"
     ]
    }
   ],
   "source": [
    "print((TP/(TP+FN)))\n",
    "print(metrics.recall_score(y_test,y_pred))"
   ]
  },
  {
   "cell_type": "markdown",
   "metadata": {},
   "source": [
    "**特效度（specificity） ---负例被分对的比例**"
   ]
  },
  {
   "cell_type": "code",
   "execution_count": 59,
   "metadata": {},
   "outputs": [
    {
     "name": "stdout",
     "output_type": "stream",
     "text": [
      "0.895161290323\n"
     ]
    }
   ],
   "source": [
    "print(TN/(TN+FP))"
   ]
  },
  {
   "cell_type": "markdown",
   "metadata": {},
   "source": [
    "**精度（precision） ---被分为正例的实例中实际为正例的比例**"
   ]
  },
  {
   "cell_type": "code",
   "execution_count": 60,
   "metadata": {},
   "outputs": [
    {
     "name": "stdout",
     "output_type": "stream",
     "text": [
      "0.666666666667\n"
     ]
    }
   ],
   "source": [
    "print(TP/(TP+FP))"
   ]
  },
  {
   "cell_type": "markdown",
   "metadata": {},
   "source": [
    "**提高召回率的方法**"
   ]
  },
  {
   "cell_type": "code",
   "execution_count": null,
   "metadata": {},
   "outputs": [],
   "source": []
  }
 ],
 "metadata": {
  "kernelspec": {
   "display_name": "Python 3",
   "language": "python",
   "name": "python3"
  },
  "language_info": {
   "codemirror_mode": {
    "name": "ipython",
    "version": 3
   },
   "file_extension": ".py",
   "mimetype": "text/x-python",
   "name": "python",
   "nbconvert_exporter": "python",
   "pygments_lexer": "ipython3",
   "version": "3.6.4"
  }
 },
 "nbformat": 4,
 "nbformat_minor": 2
}
